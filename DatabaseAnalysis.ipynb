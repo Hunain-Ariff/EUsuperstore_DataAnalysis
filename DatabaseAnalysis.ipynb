{
 "cells": [
  {
   "cell_type": "code",
   "execution_count": 2,
   "id": "88fe3684",
   "metadata": {},
   "outputs": [],
   "source": [
    "#Importing libraries\n",
    "\n",
    "library(tidyverse)\n",
    "library(dplyr)\n",
    "library(lubridate)\n",
    "library(tidyr)\n",
    "library(Hmisc)\n",
    "library(gapminder)"
   ]
  },
  {
   "cell_type": "code",
   "execution_count": 3,
   "id": "8eabb326",
   "metadata": {},
   "outputs": [],
   "source": [
    "#loading data set\n",
    "eu_storedata <- readxl::read_xls(\"C:/Users/DELL/Downloads/Sample - EU Superstore.xls\")\n"
   ]
  },
  {
   "cell_type": "code",
   "execution_count": 31,
   "id": "afbe0d36",
   "metadata": {},
   "outputs": [],
   "source": [
    "#Loading data set of customer metrics\n",
    "Final_submissions <- read.csv(\"C:/Users/DELL/Desktop/finalsubmission/Final_submissions.csv\")"
   ]
  },
  {
   "cell_type": "code",
   "execution_count": 4,
   "id": "5a56d1c4",
   "metadata": {},
   "outputs": [],
   "source": [
    "#saving date that will be used as current date(\"Checkdate\")\n",
    "Checkdate <-  as.POSIXct(\"2019-01-31\")\n"
   ]
  },
  {
   "cell_type": "code",
   "execution_count": 5,
   "id": "1ed1479f",
   "metadata": {},
   "outputs": [],
   "source": [
    "#creating new orderID which is unique for each customer\n",
    "df_eu_storedata <- eu_storedata |>  mutate(Order_ID = paste(`Order ID`, `Customer ID`, sep = '_'))\n"
   ]
  },
  {
   "cell_type": "markdown",
   "id": "0e0611cc",
   "metadata": {},
   "source": [
    "# SALES GROWTH RATE FOR EACH YEAR\n"
   ]
  },
  {
   "cell_type": "code",
   "execution_count": 14,
   "id": "580b20d7",
   "metadata": {},
   "outputs": [
    {
     "name": "stdout",
     "output_type": "stream",
     "text": [
      "[1] 36.84067\n",
      "[1] 16.22155\n",
      "[1] 37.05488\n"
     ]
    }
   ],
   "source": [
    "# Calculate sales growth rate for 2016\n",
    "  sales_growth_rate_2016 <- (sum(df_eu_storedata$Sales[df_eu_storedata$`Order Date` >= '2016-01-01' & df_eu_storedata$`Order Date` <= '2016-12-31']) - \n",
    "                               sum(df_eu_storedata$Sales[df_eu_storedata$`Order Date` >= '2015-01-01' & df_eu_storedata$`Order Date` <= '2015-12-31'])) / \n",
    "    sum(df_eu_storedata$Sales[df_eu_storedata$`Order Date` >= '2015-01-01' & df_eu_storedata$`Order Date` <= '2015-12-31']) * 100\n",
    "  \n",
    "  # Calculate sales growth rate for 2017\n",
    "  sales_growth_rate_2017 <- (sum(df_eu_storedata$Sales[df_eu_storedata$`Order Date` >= '2017-01-01' & df_eu_storedata$`Order Date` <= '2017-12-31']) - \n",
    "                               sum(df_eu_storedata$Sales[df_eu_storedata$`Order Date` >= '2016-01-01' & df_eu_storedata$`Order Date` <= '2016-12-31'])) / \n",
    "    sum(df_eu_storedata$Sales[df_eu_storedata$`Order Date` >= '2016-01-01' & df_eu_storedata$`Order Date` <= '2016-12-31']) * 100\n",
    "  \n",
    "  # Calculate sales growth rate for 2018\n",
    "  sales_growth_rate_2018 <- (sum(df_eu_storedata$Sales[df_eu_storedata$`Order Date` >= '2018-01-01' & df_eu_storedata$`Order Date` <= '2018-12-31']) - \n",
    "                               sum(df_eu_storedata$Sales[df_eu_storedata$`Order Date` >= '2017-01-01' & df_eu_storedata$`Order Date` <= '2017-12-31'])) / \n",
    "    sum(df_eu_storedata$Sales[df_eu_storedata$`Order Date` >= '2017-01-01' & df_eu_storedata$`Order Date` <= '2017-12-31']) * 100\n",
    "  \n",
    "print(sales_growth_rate_2016)\n",
    "print(sales_growth_rate_2017)\n",
    "print(sales_growth_rate_2018)"
   ]
  },
  {
   "cell_type": "markdown",
   "id": "201ec9e2",
   "metadata": {},
   "source": [
    "# Calculate churn rate"
   ]
  },
  {
   "cell_type": "code",
   "execution_count": 17,
   "id": "49f70acd",
   "metadata": {},
   "outputs": [
    {
     "name": "stdout",
     "output_type": "stream",
     "text": [
      "\u001b[90m# A tibble: 1 × 1\u001b[39m\n",
      "  churn_rate\n",
      "       \u001b[3m\u001b[90m<dbl>\u001b[39m\u001b[23m\n",
      "\u001b[90m1\u001b[39m       11.2\n"
     ]
    }
   ],
   "source": [
    "churn_rate <-\n",
    "  df_eu_storedata |>\n",
    "    group_by(`Customer ID`) |>\n",
    "    summarise(last_purchase_date = max(`Order Date`)) |>\n",
    "    mutate(churned = ifelse(last_purchase_date < \"2018-01-01\", 1, 0)) |>\n",
    "    summarise(churn_rate = (sum(churned)/n()) * 100)\n",
    "print(churn_rate)"
   ]
  },
  {
   "cell_type": "markdown",
   "id": "b5fd3079",
   "metadata": {},
   "source": [
    "# Finding New Customer Revenue Retention (NCRR)"
   ]
  },
  {
   "cell_type": "code",
   "execution_count": 22,
   "id": "bbd33685",
   "metadata": {},
   "outputs": [
    {
     "name": "stdout",
     "output_type": "stream",
     "text": [
      "\u001b[90m# A tibble: 1 × 4\u001b[39m\n",
      "  revenue_from_new_customers_2017 revenue_lost_due_to_churn revenue_from…¹  NCRR\n",
      "                            \u001b[3m\u001b[90m<dbl>\u001b[39m\u001b[23m                     \u001b[3m\u001b[90m<dbl>\u001b[39m\u001b[23m          \u001b[3m\u001b[90m<dbl>\u001b[39m\u001b[23m \u001b[3m\u001b[90m<dbl>\u001b[39m\u001b[23m\n",
      "\u001b[90m1\u001b[39m                         \u001b[4m6\u001b[24m\u001b[4m7\u001b[24m\u001b[4m7\u001b[24m984.                         0        \u001b[4m8\u001b[24m\u001b[4m5\u001b[24m\u001b[4m0\u001b[24m279.  125.\n",
      "\u001b[90m# … with abbreviated variable name ¹​revenue_from_new_customers_2018\u001b[39m\n"
     ]
    }
   ],
   "source": [
    "\n",
    "  \n",
    "  # Identify new customers who made their first purchase in 2017\n",
    "  new_customers_2017 <- df_eu_storedata |>\n",
    "    group_by(`Customer ID`) |>\n",
    "    summarise(first_purchase_date = min(`Order Date`)) |>\n",
    "    filter(first_purchase_date >= '2017-01-01' & first_purchase_date <= '2017-12-31') |>\n",
    "    select(`Customer ID`) \n",
    "  \n",
    "  # Identify customers who made purchases in both 2017 and 2018\n",
    "  customers_2017_2018 <- df_eu_storedata |>\n",
    "    group_by(`Customer ID`) |>\n",
    "    summarise(total_sales_2017 = sum(Sales[`Order Date` >= '2017-01-01' & `Order Date` <= '2017-12-31']),\n",
    "              total_sales_2018 = sum(Sales[`Order Date` >= '2018-01-01' & `Order Date` <= '2018-12-31'])) |> \n",
    "    filter(total_sales_2017 > 0 & total_sales_2018 > 0) |> \n",
    "    select(`Customer ID`) \n",
    "  \n",
    "  # Calculate NCRR  \n",
    "  NCRR <- (df_eu_storedata |>\n",
    "             filter(`Customer ID` %in% customers_2017_2018$`Customer ID`) |>\n",
    "             group_by(`Customer ID`) |>\n",
    "             summarise(total_sales_2017 = sum(Sales[`Order Date` >= '2017-01-01' & `Order Date` <= '2017-12-31']),\n",
    "                       total_sales_2018 = sum(Sales[`Order Date` >= '2018-01-01' & `Order Date` <= '2018-12-31']))) |>\n",
    "    left_join(new_customers_2017, by = 'Customer ID') |> \n",
    "    summarise(revenue_from_new_customers_2017 = sum(total_sales_2017),\n",
    "              revenue_lost_due_to_churn = sum(total_sales_2017[is.na(total_sales_2018)]),\n",
    "              revenue_from_new_customers_2018 = sum(total_sales_2018[!is.na(total_sales_2018)])) |>\n",
    "    mutate(NCRR = (revenue_from_new_customers_2018 - revenue_lost_due_to_churn) / revenue_from_new_customers_2017 * 100) |> \n",
    "    view()\n",
    "  \n",
    "print(NCRR)\n"
   ]
  },
  {
   "cell_type": "markdown",
   "id": "3f524b3c",
   "metadata": {},
   "source": [
    "# Working for CLV"
   ]
  },
  {
   "cell_type": "code",
   "execution_count": 58,
   "id": "47157f53",
   "metadata": {},
   "outputs": [
    {
     "name": "stderr",
     "output_type": "stream",
     "text": [
      "\u001b[1m\u001b[22m`summarise()` has grouped output by 'Customer ID'. You can override using the `.groups` argument.\n",
      "Warning message:\n",
      "\"\u001b[1m\u001b[22mReturning more (or less) than 1 row per `summarise()` group was deprecated in dplyr 1.1.0.\n",
      "\u001b[36mℹ\u001b[39m Please use `reframe()` instead.\n",
      "\u001b[36mℹ\u001b[39m When switching from `summarise()` to `reframe()`, remember that `reframe()` always returns an ungrouped data frame\n",
      "  and adjust accordingly.\"\n"
     ]
    },
    {
     "name": "stdout",
     "output_type": "stream",
     "text": [
      "  AVG_Order_Per_Year Customer_lifetime_value\n",
      "1           2.058071                   20702\n"
     ]
    }
   ],
   "source": [
    "CLVs <- Final_submissions |>\n",
    "  mutate(`Customer ID` = Customer.ID) |> \n",
    "  mutate(CV = mean(total_transactions) * mean(average_order_value)) |> \n",
    "  mutate(CLS = mean(difftime(as.Date(date_last_transaction, format = \"%m/%d/%Y\"), as.Date(date_first_transaction, format = \"%m/%d/%Y\"), units = \"days\") / 365)) |> \n",
    "  left_join(df_eu_storedata |>\n",
    "              mutate(year = lubridate::year(`Order Date`)) |>\n",
    "              group_by(`Customer ID`, year) |>\n",
    "              summarise(year_finding = n_distinct(Order_ID)) |> \n",
    "              group_by(`Customer ID`) |>\n",
    "              summarise(avg_order_per_year = mean(year_finding)), by = \"Customer ID\") |> \n",
    "  summarise(dataset_avg_order_per_year = mean(avg_order_per_year), \n",
    "            CLV = as.integer(CV * CLS * dataset_avg_order_per_year)) \n",
    "\n",
    "Customer_LV <- CLVs %>% \n",
    "     summarise(AVG_Order_Per_Year = max(dataset_avg_order_per_year),\n",
    "              Customer_lifetime_value = max(CLV))\n",
    "\n",
    "print(Customer_LV)"
   ]
  },
  {
   "cell_type": "markdown",
   "id": "87b60306",
   "metadata": {},
   "source": [
    "# Percentage of orders with high-priced products\n"
   ]
  },
  {
   "cell_type": "code",
   "execution_count": 29,
   "id": "01b84882",
   "metadata": {},
   "outputs": [
    {
     "name": "stdout",
     "output_type": "stream",
     "text": [
      "\u001b[90m# A tibble: 1 × 4\u001b[39m\n",
      "  Factors         orders high_percentage remainin_percentage\n",
      "  \u001b[3m\u001b[90m<fct>\u001b[39m\u001b[23m            \u001b[3m\u001b[90m<int>\u001b[39m\u001b[23m           \u001b[3m\u001b[90m<dbl>\u001b[39m\u001b[23m               \u001b[3m\u001b[90m<dbl>\u001b[39m\u001b[23m\n",
      "\u001b[90m1\u001b[39m [473.47,908.55]    148            2.89                97.1\n"
     ]
    }
   ],
   "source": [
    "Percentage_of_orders_with_high_priced_products <- df_eu_storedata |> \n",
    "  mutate(unit_price = Sales/Quantity) |> \n",
    "  mutate(Factors = cut2(unit_price)) |> \n",
    "  group_by(Factors) |> \n",
    "  summarise(orders = n_distinct(Order_ID)) |> \n",
    "  slice_max(Factors, n=1, with_ties = FALSE) |> \n",
    "   mutate(high_percentage = (orders/5121)*100,\n",
    "          remainin_percentage = 100-((orders/5121)*100))\n",
    "\n",
    "print(Percentage_of_orders_with_high_priced_products)"
   ]
  },
  {
   "cell_type": "markdown",
   "id": "f4302b81",
   "metadata": {},
   "source": [
    "# Finding percentage of customers who are regular and promotional\n"
   ]
  },
  {
   "cell_type": "code",
   "execution_count": 55,
   "id": "e995e4f5",
   "metadata": {},
   "outputs": [
    {
     "name": "stdout",
     "output_type": "stream",
     "text": [
      "\u001b[90m# A tibble: 2 × 3\u001b[39m\n",
      "  shopper_type        n_customer percentage\n",
      "  \u001b[3m\u001b[90m<chr>\u001b[39m\u001b[23m                    \u001b[3m\u001b[90m<int>\u001b[39m\u001b[23m      \u001b[3m\u001b[90m<dbl>\u001b[39m\u001b[23m\n",
      "\u001b[90m1\u001b[39m Regular_shopper            528       66.4\n",
      "\u001b[90m2\u001b[39m promotional_shopper        267       33.6\n"
     ]
    }
   ],
   "source": [
    "POC <- Final_submissions |> \n",
    "  group_by(shopper_type) |> \n",
    "  summarise(n_customer = n_distinct(`Customer.ID`)) |> \n",
    "  mutate(percentage = (n_customer/795)*100)\n",
    "\n",
    "print(POC)"
   ]
  },
  {
   "cell_type": "markdown",
   "id": "f113afd7",
   "metadata": {},
   "source": [
    "# Finding average discount that customers get on their order\n"
   ]
  },
  {
   "cell_type": "code",
   "execution_count": 60,
   "id": "ef1cb468",
   "metadata": {},
   "outputs": [
    {
     "name": "stderr",
     "output_type": "stream",
     "text": [
      "\u001b[1m\u001b[22m`summarise()` has grouped output by 'Customer Name'. You can override using the `.groups` argument.\n"
     ]
    },
    {
     "name": "stdout",
     "output_type": "stream",
     "text": [
      "\u001b[90m# A tibble: 1 × 2\u001b[39m\n",
      "  Discount_shopping_percentage Regular_shopping_percentage\n",
      "                         \u001b[3m\u001b[90m<dbl>\u001b[39m\u001b[23m                       \u001b[3m\u001b[90m<dbl>\u001b[39m\u001b[23m\n",
      "\u001b[90m1\u001b[39m                         20.1                        79.9\n"
     ]
    }
   ],
   "source": [
    "ADPPO <- df_eu_storedata |> \n",
    "  group_by(`Customer Name`,Order_ID) |> \n",
    "  summarise(OID_discount = sum(Discount)) |>  \n",
    "  group_by(`Customer Name`) |> \n",
    "  summarise(Cust_disc = mean(OID_discount)*100) |> \n",
    "  mutate(discount_shopping = mean(Cust_disc),\n",
    "         normal_shopping = (100-mean(Cust_disc)))\n",
    "\n",
    "average_discount_percentage_per_order <- ADPPO %>% \n",
    "                                         summarise(Discount_shopping_percentage = max(discount_shopping),\n",
    "                                                  Regular_shopping_percentage = max(normal_shopping))\n",
    "\n",
    "print(average_discount_percentage_per_order)"
   ]
  },
  {
   "cell_type": "markdown",
   "id": "b0f9f05e",
   "metadata": {},
   "source": [
    "# Calculating profit percentage on store's total sales\n"
   ]
  },
  {
   "cell_type": "code",
   "execution_count": 62,
   "id": "ab43f284",
   "metadata": {},
   "outputs": [
    {
     "name": "stdout",
     "output_type": "stream",
     "text": [
      "\u001b[90m# A tibble: 1 × 3\u001b[39m\n",
      "  total_profit total_sales profit_margin\n",
      "         \u001b[3m\u001b[90m<dbl>\u001b[39m\u001b[23m       \u001b[3m\u001b[90m<dbl>\u001b[39m\u001b[23m         \u001b[3m\u001b[90m<dbl>\u001b[39m\u001b[23m\n",
      "\u001b[90m1\u001b[39m      \u001b[4m3\u001b[24m\u001b[4m7\u001b[24m\u001b[4m2\u001b[24m830.    2\u001b[4m9\u001b[24m\u001b[4m3\u001b[24m\u001b[4m8\u001b[24m089.          12.7\n"
     ]
    }
   ],
   "source": [
    "Profit_percentage <- df_eu_storedata |>\n",
    "    summarise(total_profit = sum(Profit), total_sales = sum(Sales)) |>\n",
    "    mutate(profit_margin = (total_profit / total_sales) * 100)\n",
    "  \n",
    "print(Profit_percentage)"
   ]
  },
  {
   "cell_type": "code",
   "execution_count": null,
   "id": "719a9060",
   "metadata": {},
   "outputs": [],
   "source": []
  }
 ],
 "metadata": {
  "kernelspec": {
   "display_name": "R",
   "language": "R",
   "name": "ir"
  },
  "language_info": {
   "codemirror_mode": "r",
   "file_extension": ".r",
   "mimetype": "text/x-r-source",
   "name": "R",
   "pygments_lexer": "r",
   "version": "4.2.2"
  }
 },
 "nbformat": 4,
 "nbformat_minor": 5
}
