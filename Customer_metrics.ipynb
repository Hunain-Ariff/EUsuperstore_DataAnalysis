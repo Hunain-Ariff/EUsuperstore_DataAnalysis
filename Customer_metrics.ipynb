{
 "cells": [
  {
   "cell_type": "code",
   "execution_count": 157,
   "id": "3603f7c0",
   "metadata": {},
   "outputs": [],
   "source": [
    "#Importing libraries\n",
    "\n",
    "library(tidyverse)\n",
    "library(dplyr)\n",
    "library(lubridate)\n",
    "library(tidyr)\n",
    "library(Hmisc)\n",
    "library(gapminder)\n"
   ]
  },
  {
   "cell_type": "code",
   "execution_count": 158,
   "id": "e360e1bb",
   "metadata": {},
   "outputs": [],
   "source": [
    "#loading data set\n",
    "eu_storedata <- readxl::read_xls(\"C:/Users/DELL/Downloads/Sample - EU Superstore.xls\")\n"
   ]
  },
  {
   "cell_type": "code",
   "execution_count": 159,
   "id": "56ebf6f4",
   "metadata": {},
   "outputs": [],
   "source": [
    "#saving date that will be used as current date(\"Checkdate\")\n",
    "Checkdate <-  as.POSIXct(\"2019-01-31\")\n"
   ]
  },
  {
   "cell_type": "code",
   "execution_count": 160,
   "id": "598f0dfe",
   "metadata": {},
   "outputs": [],
   "source": [
    "#creating new orderID which is unique for each customer\n",
    "df_eu_storedata <- eu_storedata |>  mutate(Order_ID = paste(`Order ID`, `Customer ID`, sep = '_'))\n"
   ]
  },
  {
   "cell_type": "code",
   "execution_count": 161,
   "id": "1243b0b6",
   "metadata": {},
   "outputs": [
    {
     "data": {
      "text/html": [
       "<table class=\"dataframe\">\n",
       "<caption>A tibble: 6 × 20</caption>\n",
       "<thead>\n",
       "\t<tr><th scope=col>Row ID</th><th scope=col>Order ID</th><th scope=col>Order Date</th><th scope=col>Ship Date</th><th scope=col>Ship Mode</th><th scope=col>Customer ID</th><th scope=col>Customer Name</th><th scope=col>Segment</th><th scope=col>City</th><th scope=col>State</th><th scope=col>Country</th><th scope=col>Region</th><th scope=col>Product ID</th><th scope=col>Category</th><th scope=col>Sub-Category</th><th scope=col>Product Name</th><th scope=col>Sales</th><th scope=col>Quantity</th><th scope=col>Discount</th><th scope=col>Profit</th></tr>\n",
       "\t<tr><th scope=col>&lt;dbl&gt;</th><th scope=col>&lt;chr&gt;</th><th scope=col>&lt;dttm&gt;</th><th scope=col>&lt;dttm&gt;</th><th scope=col>&lt;chr&gt;</th><th scope=col>&lt;chr&gt;</th><th scope=col>&lt;chr&gt;</th><th scope=col>&lt;chr&gt;</th><th scope=col>&lt;chr&gt;</th><th scope=col>&lt;chr&gt;</th><th scope=col>&lt;chr&gt;</th><th scope=col>&lt;chr&gt;</th><th scope=col>&lt;chr&gt;</th><th scope=col>&lt;chr&gt;</th><th scope=col>&lt;chr&gt;</th><th scope=col>&lt;chr&gt;</th><th scope=col>&lt;dbl&gt;</th><th scope=col>&lt;dbl&gt;</th><th scope=col>&lt;dbl&gt;</th><th scope=col>&lt;dbl&gt;</th></tr>\n",
       "</thead>\n",
       "<tbody>\n",
       "\t<tr><td>1</td><td>ES-2018-1311038</td><td>2018-02-07</td><td>2018-02-11</td><td>Standard Class</td><td>AS-10045</td><td>Aaron Smayling</td><td>Corporate</td><td>Leeds</td><td>England</td><td>United Kingdom</td><td>North</td><td>OFF-ST-10000988</td><td>Office Supplies</td><td>Storage    </td><td>Fellowes Folders, Blue                    </td><td> 79.20</td><td>3</td><td>0</td><td>39.60</td></tr>\n",
       "\t<tr><td>2</td><td>ES-2018-1311038</td><td>2018-02-07</td><td>2018-02-11</td><td>Standard Class</td><td>AS-10045</td><td>Aaron Smayling</td><td>Corporate</td><td>Leeds</td><td>England</td><td>United Kingdom</td><td>North</td><td>TEC-AC-10004144</td><td>Technology     </td><td>Accessories</td><td>SanDisk Numeric Keypad, Bluetooth         </td><td>388.92</td><td>7</td><td>0</td><td> 0.00</td></tr>\n",
       "\t<tr><td>3</td><td>ES-2018-1311038</td><td>2018-02-07</td><td>2018-02-11</td><td>Standard Class</td><td>AS-10045</td><td>Aaron Smayling</td><td>Corporate</td><td>Leeds</td><td>England</td><td>United Kingdom</td><td>North</td><td>OFF-LA-10001915</td><td>Office Supplies</td><td>Labels     </td><td>Avery Legal Exhibit Labels, 5000 Label Set</td><td> 35.19</td><td>3</td><td>0</td><td>16.11</td></tr>\n",
       "\t<tr><td>4</td><td>ES-2018-1311038</td><td>2018-02-07</td><td>2018-02-11</td><td>Standard Class</td><td>AS-10045</td><td>Aaron Smayling</td><td>Corporate</td><td>Leeds</td><td>England</td><td>United Kingdom</td><td>North</td><td>OFF-ST-10004550</td><td>Office Supplies</td><td>Storage    </td><td>Fellowes Folders, Wire Frame              </td><td> 50.94</td><td>2</td><td>0</td><td>13.20</td></tr>\n",
       "\t<tr><td>5</td><td>ES-2018-1311038</td><td>2018-02-07</td><td>2018-02-11</td><td>Standard Class</td><td>AS-10045</td><td>Aaron Smayling</td><td>Corporate</td><td>Leeds</td><td>England</td><td>United Kingdom</td><td>North</td><td>TEC-AC-10004068</td><td>Technology     </td><td>Accessories</td><td>Memorex Memory Card, USB                  </td><td>307.44</td><td>3</td><td>0</td><td>73.71</td></tr>\n",
       "\t<tr><td>6</td><td>ES-2018-1311038</td><td>2018-02-07</td><td>2018-02-11</td><td>Standard Class</td><td>AS-10045</td><td>Aaron Smayling</td><td>Corporate</td><td>Leeds</td><td>England</td><td>United Kingdom</td><td>North</td><td>OFF-ST-10002271</td><td>Office Supplies</td><td>Storage    </td><td>Rogers Shelving, Wire Frame               </td><td>122.40</td><td>2</td><td>0</td><td>37.92</td></tr>\n",
       "</tbody>\n",
       "</table>\n"
      ],
      "text/latex": [
       "A tibble: 6 × 20\n",
       "\\begin{tabular}{llllllllllllllllllll}\n",
       " Row ID & Order ID & Order Date & Ship Date & Ship Mode & Customer ID & Customer Name & Segment & City & State & Country & Region & Product ID & Category & Sub-Category & Product Name & Sales & Quantity & Discount & Profit\\\\\n",
       " <dbl> & <chr> & <dttm> & <dttm> & <chr> & <chr> & <chr> & <chr> & <chr> & <chr> & <chr> & <chr> & <chr> & <chr> & <chr> & <chr> & <dbl> & <dbl> & <dbl> & <dbl>\\\\\n",
       "\\hline\n",
       "\t 1 & ES-2018-1311038 & 2018-02-07 & 2018-02-11 & Standard Class & AS-10045 & Aaron Smayling & Corporate & Leeds & England & United Kingdom & North & OFF-ST-10000988 & Office Supplies & Storage     & Fellowes Folders, Blue                     &  79.20 & 3 & 0 & 39.60\\\\\n",
       "\t 2 & ES-2018-1311038 & 2018-02-07 & 2018-02-11 & Standard Class & AS-10045 & Aaron Smayling & Corporate & Leeds & England & United Kingdom & North & TEC-AC-10004144 & Technology      & Accessories & SanDisk Numeric Keypad, Bluetooth          & 388.92 & 7 & 0 &  0.00\\\\\n",
       "\t 3 & ES-2018-1311038 & 2018-02-07 & 2018-02-11 & Standard Class & AS-10045 & Aaron Smayling & Corporate & Leeds & England & United Kingdom & North & OFF-LA-10001915 & Office Supplies & Labels      & Avery Legal Exhibit Labels, 5000 Label Set &  35.19 & 3 & 0 & 16.11\\\\\n",
       "\t 4 & ES-2018-1311038 & 2018-02-07 & 2018-02-11 & Standard Class & AS-10045 & Aaron Smayling & Corporate & Leeds & England & United Kingdom & North & OFF-ST-10004550 & Office Supplies & Storage     & Fellowes Folders, Wire Frame               &  50.94 & 2 & 0 & 13.20\\\\\n",
       "\t 5 & ES-2018-1311038 & 2018-02-07 & 2018-02-11 & Standard Class & AS-10045 & Aaron Smayling & Corporate & Leeds & England & United Kingdom & North & TEC-AC-10004068 & Technology      & Accessories & Memorex Memory Card, USB                   & 307.44 & 3 & 0 & 73.71\\\\\n",
       "\t 6 & ES-2018-1311038 & 2018-02-07 & 2018-02-11 & Standard Class & AS-10045 & Aaron Smayling & Corporate & Leeds & England & United Kingdom & North & OFF-ST-10002271 & Office Supplies & Storage     & Rogers Shelving, Wire Frame                & 122.40 & 2 & 0 & 37.92\\\\\n",
       "\\end{tabular}\n"
      ],
      "text/markdown": [
       "\n",
       "A tibble: 6 × 20\n",
       "\n",
       "| Row ID &lt;dbl&gt; | Order ID &lt;chr&gt; | Order Date &lt;dttm&gt; | Ship Date &lt;dttm&gt; | Ship Mode &lt;chr&gt; | Customer ID &lt;chr&gt; | Customer Name &lt;chr&gt; | Segment &lt;chr&gt; | City &lt;chr&gt; | State &lt;chr&gt; | Country &lt;chr&gt; | Region &lt;chr&gt; | Product ID &lt;chr&gt; | Category &lt;chr&gt; | Sub-Category &lt;chr&gt; | Product Name &lt;chr&gt; | Sales &lt;dbl&gt; | Quantity &lt;dbl&gt; | Discount &lt;dbl&gt; | Profit &lt;dbl&gt; |\n",
       "|---|---|---|---|---|---|---|---|---|---|---|---|---|---|---|---|---|---|---|---|\n",
       "| 1 | ES-2018-1311038 | 2018-02-07 | 2018-02-11 | Standard Class | AS-10045 | Aaron Smayling | Corporate | Leeds | England | United Kingdom | North | OFF-ST-10000988 | Office Supplies | Storage     | Fellowes Folders, Blue                     |  79.20 | 3 | 0 | 39.60 |\n",
       "| 2 | ES-2018-1311038 | 2018-02-07 | 2018-02-11 | Standard Class | AS-10045 | Aaron Smayling | Corporate | Leeds | England | United Kingdom | North | TEC-AC-10004144 | Technology      | Accessories | SanDisk Numeric Keypad, Bluetooth          | 388.92 | 7 | 0 |  0.00 |\n",
       "| 3 | ES-2018-1311038 | 2018-02-07 | 2018-02-11 | Standard Class | AS-10045 | Aaron Smayling | Corporate | Leeds | England | United Kingdom | North | OFF-LA-10001915 | Office Supplies | Labels      | Avery Legal Exhibit Labels, 5000 Label Set |  35.19 | 3 | 0 | 16.11 |\n",
       "| 4 | ES-2018-1311038 | 2018-02-07 | 2018-02-11 | Standard Class | AS-10045 | Aaron Smayling | Corporate | Leeds | England | United Kingdom | North | OFF-ST-10004550 | Office Supplies | Storage     | Fellowes Folders, Wire Frame               |  50.94 | 2 | 0 | 13.20 |\n",
       "| 5 | ES-2018-1311038 | 2018-02-07 | 2018-02-11 | Standard Class | AS-10045 | Aaron Smayling | Corporate | Leeds | England | United Kingdom | North | TEC-AC-10004068 | Technology      | Accessories | Memorex Memory Card, USB                   | 307.44 | 3 | 0 | 73.71 |\n",
       "| 6 | ES-2018-1311038 | 2018-02-07 | 2018-02-11 | Standard Class | AS-10045 | Aaron Smayling | Corporate | Leeds | England | United Kingdom | North | OFF-ST-10002271 | Office Supplies | Storage     | Rogers Shelving, Wire Frame                | 122.40 | 2 | 0 | 37.92 |\n",
       "\n"
      ],
      "text/plain": [
       "  Row ID Order ID        Order Date Ship Date  Ship Mode      Customer ID\n",
       "1 1      ES-2018-1311038 2018-02-07 2018-02-11 Standard Class AS-10045   \n",
       "2 2      ES-2018-1311038 2018-02-07 2018-02-11 Standard Class AS-10045   \n",
       "3 3      ES-2018-1311038 2018-02-07 2018-02-11 Standard Class AS-10045   \n",
       "4 4      ES-2018-1311038 2018-02-07 2018-02-11 Standard Class AS-10045   \n",
       "5 5      ES-2018-1311038 2018-02-07 2018-02-11 Standard Class AS-10045   \n",
       "6 6      ES-2018-1311038 2018-02-07 2018-02-11 Standard Class AS-10045   \n",
       "  Customer Name  Segment   City  State   Country        Region Product ID     \n",
       "1 Aaron Smayling Corporate Leeds England United Kingdom North  OFF-ST-10000988\n",
       "2 Aaron Smayling Corporate Leeds England United Kingdom North  TEC-AC-10004144\n",
       "3 Aaron Smayling Corporate Leeds England United Kingdom North  OFF-LA-10001915\n",
       "4 Aaron Smayling Corporate Leeds England United Kingdom North  OFF-ST-10004550\n",
       "5 Aaron Smayling Corporate Leeds England United Kingdom North  TEC-AC-10004068\n",
       "6 Aaron Smayling Corporate Leeds England United Kingdom North  OFF-ST-10002271\n",
       "  Category        Sub-Category Product Name                              \n",
       "1 Office Supplies Storage      Fellowes Folders, Blue                    \n",
       "2 Technology      Accessories  SanDisk Numeric Keypad, Bluetooth         \n",
       "3 Office Supplies Labels       Avery Legal Exhibit Labels, 5000 Label Set\n",
       "4 Office Supplies Storage      Fellowes Folders, Wire Frame              \n",
       "5 Technology      Accessories  Memorex Memory Card, USB                  \n",
       "6 Office Supplies Storage      Rogers Shelving, Wire Frame               \n",
       "  Sales  Quantity Discount Profit\n",
       "1  79.20 3        0        39.60 \n",
       "2 388.92 7        0         0.00 \n",
       "3  35.19 3        0        16.11 \n",
       "4  50.94 2        0        13.20 \n",
       "5 307.44 3        0        73.71 \n",
       "6 122.40 2        0        37.92 "
      ]
     },
     "metadata": {},
     "output_type": "display_data"
    }
   ],
   "source": [
    "# View first six rows of data\n",
    "head(eu_storedata)"
   ]
  },
  {
   "cell_type": "code",
   "execution_count": 162,
   "id": "aacb2d94",
   "metadata": {},
   "outputs": [
    {
     "data": {
      "text/html": [
       "21"
      ],
      "text/latex": [
       "21"
      ],
      "text/markdown": [
       "21"
      ],
      "text/plain": [
       "[1] 21"
      ]
     },
     "metadata": {},
     "output_type": "display_data"
    },
    {
     "data": {
      "text/html": [
       "10000"
      ],
      "text/latex": [
       "10000"
      ],
      "text/markdown": [
       "10000"
      ],
      "text/plain": [
       "[1] 10000"
      ]
     },
     "metadata": {},
     "output_type": "display_data"
    }
   ],
   "source": [
    "# Columns and Rows of dataset\n",
    "ncol(df_eu_storedata)\n",
    "nrow(df_eu_storedata)"
   ]
  },
  {
   "cell_type": "code",
   "execution_count": 163,
   "id": "1249be94",
   "metadata": {},
   "outputs": [
    {
     "data": {
      "text/html": [
       "<dl>\n",
       "\t<dt>$`Row ID`</dt>\n",
       "\t\t<dd>'numeric'</dd>\n",
       "\t<dt>$`Order ID`</dt>\n",
       "\t\t<dd>'character'</dd>\n",
       "\t<dt>$`Order Date`</dt>\n",
       "\t\t<dd><style>\n",
       ".list-inline {list-style: none; margin:0; padding: 0}\n",
       ".list-inline>li {display: inline-block}\n",
       ".list-inline>li:not(:last-child)::after {content: \"\\00b7\"; padding: 0 .5ex}\n",
       "</style>\n",
       "<ol class=list-inline><li>'POSIXct'</li><li>'POSIXt'</li></ol>\n",
       "</dd>\n",
       "\t<dt>$`Ship Date`</dt>\n",
       "\t\t<dd><style>\n",
       ".list-inline {list-style: none; margin:0; padding: 0}\n",
       ".list-inline>li {display: inline-block}\n",
       ".list-inline>li:not(:last-child)::after {content: \"\\00b7\"; padding: 0 .5ex}\n",
       "</style>\n",
       "<ol class=list-inline><li>'POSIXct'</li><li>'POSIXt'</li></ol>\n",
       "</dd>\n",
       "\t<dt>$`Ship Mode`</dt>\n",
       "\t\t<dd>'character'</dd>\n",
       "\t<dt>$`Customer ID`</dt>\n",
       "\t\t<dd>'character'</dd>\n",
       "\t<dt>$`Customer Name`</dt>\n",
       "\t\t<dd>'character'</dd>\n",
       "\t<dt>$Segment</dt>\n",
       "\t\t<dd>'character'</dd>\n",
       "\t<dt>$City</dt>\n",
       "\t\t<dd>'character'</dd>\n",
       "\t<dt>$State</dt>\n",
       "\t\t<dd>'character'</dd>\n",
       "\t<dt>$Country</dt>\n",
       "\t\t<dd>'character'</dd>\n",
       "\t<dt>$Region</dt>\n",
       "\t\t<dd>'character'</dd>\n",
       "\t<dt>$`Product ID`</dt>\n",
       "\t\t<dd>'character'</dd>\n",
       "\t<dt>$Category</dt>\n",
       "\t\t<dd>'character'</dd>\n",
       "\t<dt>$`Sub-Category`</dt>\n",
       "\t\t<dd>'character'</dd>\n",
       "\t<dt>$`Product Name`</dt>\n",
       "\t\t<dd>'character'</dd>\n",
       "\t<dt>$Sales</dt>\n",
       "\t\t<dd>'numeric'</dd>\n",
       "\t<dt>$Quantity</dt>\n",
       "\t\t<dd>'numeric'</dd>\n",
       "\t<dt>$Discount</dt>\n",
       "\t\t<dd>'numeric'</dd>\n",
       "\t<dt>$Profit</dt>\n",
       "\t\t<dd>'numeric'</dd>\n",
       "\t<dt>$Order_ID</dt>\n",
       "\t\t<dd>'character'</dd>\n",
       "</dl>\n"
      ],
      "text/latex": [
       "\\begin{description}\n",
       "\\item[\\$`Row ID`] 'numeric'\n",
       "\\item[\\$`Order ID`] 'character'\n",
       "\\item[\\$`Order Date`] \\begin{enumerate*}\n",
       "\\item 'POSIXct'\n",
       "\\item 'POSIXt'\n",
       "\\end{enumerate*}\n",
       "\n",
       "\\item[\\$`Ship Date`] \\begin{enumerate*}\n",
       "\\item 'POSIXct'\n",
       "\\item 'POSIXt'\n",
       "\\end{enumerate*}\n",
       "\n",
       "\\item[\\$`Ship Mode`] 'character'\n",
       "\\item[\\$`Customer ID`] 'character'\n",
       "\\item[\\$`Customer Name`] 'character'\n",
       "\\item[\\$Segment] 'character'\n",
       "\\item[\\$City] 'character'\n",
       "\\item[\\$State] 'character'\n",
       "\\item[\\$Country] 'character'\n",
       "\\item[\\$Region] 'character'\n",
       "\\item[\\$`Product ID`] 'character'\n",
       "\\item[\\$Category] 'character'\n",
       "\\item[\\$`Sub-Category`] 'character'\n",
       "\\item[\\$`Product Name`] 'character'\n",
       "\\item[\\$Sales] 'numeric'\n",
       "\\item[\\$Quantity] 'numeric'\n",
       "\\item[\\$Discount] 'numeric'\n",
       "\\item[\\$Profit] 'numeric'\n",
       "\\item[\\$Order\\_ID] 'character'\n",
       "\\end{description}\n"
      ],
      "text/markdown": [
       "$`Row ID`\n",
       ":   'numeric'\n",
       "$`Order ID`\n",
       ":   'character'\n",
       "$`Order Date`\n",
       ":   1. 'POSIXct'\n",
       "2. 'POSIXt'\n",
       "\n",
       "\n",
       "\n",
       "$`Ship Date`\n",
       ":   1. 'POSIXct'\n",
       "2. 'POSIXt'\n",
       "\n",
       "\n",
       "\n",
       "$`Ship Mode`\n",
       ":   'character'\n",
       "$`Customer ID`\n",
       ":   'character'\n",
       "$`Customer Name`\n",
       ":   'character'\n",
       "$Segment\n",
       ":   'character'\n",
       "$City\n",
       ":   'character'\n",
       "$State\n",
       ":   'character'\n",
       "$Country\n",
       ":   'character'\n",
       "$Region\n",
       ":   'character'\n",
       "$`Product ID`\n",
       ":   'character'\n",
       "$Category\n",
       ":   'character'\n",
       "$`Sub-Category`\n",
       ":   'character'\n",
       "$`Product Name`\n",
       ":   'character'\n",
       "$Sales\n",
       ":   'numeric'\n",
       "$Quantity\n",
       ":   'numeric'\n",
       "$Discount\n",
       ":   'numeric'\n",
       "$Profit\n",
       ":   'numeric'\n",
       "$Order_ID\n",
       ":   'character'\n",
       "\n",
       "\n"
      ],
      "text/plain": [
       "$`Row ID`\n",
       "[1] \"numeric\"\n",
       "\n",
       "$`Order ID`\n",
       "[1] \"character\"\n",
       "\n",
       "$`Order Date`\n",
       "[1] \"POSIXct\" \"POSIXt\" \n",
       "\n",
       "$`Ship Date`\n",
       "[1] \"POSIXct\" \"POSIXt\" \n",
       "\n",
       "$`Ship Mode`\n",
       "[1] \"character\"\n",
       "\n",
       "$`Customer ID`\n",
       "[1] \"character\"\n",
       "\n",
       "$`Customer Name`\n",
       "[1] \"character\"\n",
       "\n",
       "$Segment\n",
       "[1] \"character\"\n",
       "\n",
       "$City\n",
       "[1] \"character\"\n",
       "\n",
       "$State\n",
       "[1] \"character\"\n",
       "\n",
       "$Country\n",
       "[1] \"character\"\n",
       "\n",
       "$Region\n",
       "[1] \"character\"\n",
       "\n",
       "$`Product ID`\n",
       "[1] \"character\"\n",
       "\n",
       "$Category\n",
       "[1] \"character\"\n",
       "\n",
       "$`Sub-Category`\n",
       "[1] \"character\"\n",
       "\n",
       "$`Product Name`\n",
       "[1] \"character\"\n",
       "\n",
       "$Sales\n",
       "[1] \"numeric\"\n",
       "\n",
       "$Quantity\n",
       "[1] \"numeric\"\n",
       "\n",
       "$Discount\n",
       "[1] \"numeric\"\n",
       "\n",
       "$Profit\n",
       "[1] \"numeric\"\n",
       "\n",
       "$Order_ID\n",
       "[1] \"character\"\n"
      ]
     },
     "metadata": {},
     "output_type": "display_data"
    }
   ],
   "source": [
    "# Columns and datatypes of sales data\n",
    "sapply(df_eu_storedata, class)"
   ]
  },
  {
   "cell_type": "markdown",
   "id": "5387f3ca",
   "metadata": {},
   "source": [
    "# Beginning Working for customer level metrics\n"
   ]
  },
  {
   "cell_type": "code",
   "execution_count": 164,
   "id": "3841b713",
   "metadata": {},
   "outputs": [
    {
     "name": "stdout",
     "output_type": "stream",
     "text": [
      "\u001b[90m# A tibble: 795 × 14\u001b[39m\n",
      "   Customer Na…¹ Custo…² segment total…³ avera…⁴ avera…⁵ avera…⁶ Avera…⁷ Avera…⁸\n",
      "   \u001b[3m\u001b[90m<chr>\u001b[39m\u001b[23m         \u001b[3m\u001b[90m<chr>\u001b[39m\u001b[23m   \u001b[3m\u001b[90m<chr>\u001b[39m\u001b[23m     \u001b[3m\u001b[90m<dbl>\u001b[39m\u001b[23m   \u001b[3m\u001b[90m<dbl>\u001b[39m\u001b[23m   \u001b[3m\u001b[90m<dbl>\u001b[39m\u001b[23m   \u001b[3m\u001b[90m<dbl>\u001b[39m\u001b[23m   \u001b[3m\u001b[90m<dbl>\u001b[39m\u001b[23m   \u001b[3m\u001b[90m<dbl>\u001b[39m\u001b[23m\n",
      "\u001b[90m 1\u001b[39m Aaron Bergman AB-100… Consum…   \u001b[4m1\u001b[24m123.    510.    93.6    1.92    75.5   13.9 \n",
      "\u001b[90m 2\u001b[39m Aaron Hawkins AH-100… Corpor…    982.    497.   123.     1.25    94.6   23.4 \n",
      "\u001b[90m 3\u001b[39m Aaron Smayli… AS-100… Corpor…    422.    516.    32.5    1.85    70.6    4.44\n",
      "\u001b[90m 4\u001b[39m Adam Bellava… AB-100… Home O…   \u001b[4m1\u001b[24m020.    669.   204.     1.4    108.    32.9 \n",
      "\u001b[90m 5\u001b[39m Adam Hart     AH-100… Corpor…    528.    503.    58.7    2.11    62.8    7.34\n",
      "\u001b[90m 6\u001b[39m Adam Shillin… AS-100… Consum…    330.    517.    41.3    1.88    67.9    5.41\n",
      "\u001b[90m 7\u001b[39m Adrian Barton AB-101… Consum…    277.    492.    46.2    2.17    72.0    6.75\n",
      "\u001b[90m 8\u001b[39m Adrian Hane   AH-101… Home O…    906.    598.   151.     2.17    65.3   16.5 \n",
      "\u001b[90m 9\u001b[39m Adrian Shami  AS-101… Home O…    341.    824.   114.     1.67   155.    21.3 \n",
      "\u001b[90m10\u001b[39m Aimee Bixby   AB-101… Consum…   \u001b[4m1\u001b[24m010.   \u001b[4m1\u001b[24m523.   168.     2.17   150.    16.5 \n",
      "\u001b[90m# … with 785 more rows, 5 more variables: total_revenue <dbl>,\u001b[39m\n",
      "\u001b[90m#   total_transactions <int>, date_last_transaction <date>,\u001b[39m\n",
      "\u001b[90m#   days_last_transaction <dbl>, date_first_transaction <date>, and abbreviated\u001b[39m\n",
      "\u001b[90m#   variable names ¹​`Customer Name`, ²​Customer_ID, ³​total_profit,\u001b[39m\n",
      "\u001b[90m#   ⁴​average_order_value, ⁵​average_order_profit,\u001b[39m\n",
      "\u001b[90m#   ⁶​average_products_purchased_per_order,\u001b[39m\n",
      "\u001b[90m#   ⁷​Average_revenue_per_product_for_the_customer, …\u001b[39m\n"
     ]
    }
   ],
   "source": [
    "Basic_metrics <-\n",
    "  df_eu_storedata |>\n",
    "  group_by(`Customer Name`) |> \n",
    "  summarise(Customer_ID = first(`Customer ID`),\n",
    "            segment = first(Segment),\n",
    "            total_profit = sum(Profit),\n",
    "            average_order_value = (sum(Sales)/n_distinct(`Order ID`)),\n",
    "            average_order_profit = (sum(Profit)/n_distinct(`Order ID`)),\n",
    "            average_products_purchased_per_order = (n_distinct(`Product Name`)/n_distinct(`Order ID`)),\n",
    "            Average_revenue_per_product_for_the_customer = (sum(Sales)/sum(Quantity)),\n",
    "            Average_profit_per_product_for_the_customer = (sum(Profit))/sum(Quantity),\n",
    "            total_revenue = sum(Sales), \n",
    "            total_transactions = n_distinct(`Order ID`),\n",
    "            date_last_transaction = as.Date(max(`Order Date`)),\n",
    "            days_last_transaction = round(as.numeric(difftime(Checkdate,max(`Order Date`),units = \"days\"))),\n",
    "            date_first_transaction = as.Date(min(`Order Date`)))  \n",
    "\n",
    "print(Basic_metrics)\n",
    "\n"
   ]
  },
  {
   "cell_type": "markdown",
   "id": "428776e9",
   "metadata": {},
   "source": [
    "# working for RFM"
   ]
  },
  {
   "cell_type": "code",
   "execution_count": 165,
   "id": "9e22d0cb",
   "metadata": {},
   "outputs": [
    {
     "name": "stdout",
     "output_type": "stream",
     "text": [
      "\u001b[90m# A tibble: 795 × 6\u001b[39m\n",
      "   `Customer Name`    Recency_score Frequency_score Revenue_sc…¹ RFMSc…² Segment\n",
      "   \u001b[3m\u001b[90m<chr>\u001b[39m\u001b[23m                      \u001b[3m\u001b[90m<int>\u001b[39m\u001b[23m           \u001b[3m\u001b[90m<int>\u001b[39m\u001b[23m        \u001b[3m\u001b[90m<int>\u001b[39m\u001b[23m   \u001b[3m\u001b[90m<dbl>\u001b[39m\u001b[23m \u001b[3m\u001b[90m<chr>\u001b[39m\u001b[23m  \n",
      "\u001b[90m 1\u001b[39m Aaron Bergman                  1               5            5     155 Can’t …\n",
      "\u001b[90m 2\u001b[39m Aaron Hawkins                  4               4            4     444 Loyal …\n",
      "\u001b[90m 3\u001b[39m Aaron Smayling                 5               5            5     555 Champi…\n",
      "\u001b[90m 4\u001b[39m Adam Bellavance                2               2            3     223 Hibern…\n",
      "\u001b[90m 5\u001b[39m Adam Hart                      4               5            4     454 Champi…\n",
      "\u001b[90m 6\u001b[39m Adam Shillingsburg             5               4            4     544 Champi…\n",
      "\u001b[90m 7\u001b[39m Adrian Barton                  4               2            3     423 Potent…\n",
      "\u001b[90m 8\u001b[39m Adrian Hane                    3               2            3     323 Potent…\n",
      "\u001b[90m 9\u001b[39m Adrian Shami                   1               1            2     112 Lost   \n",
      "\u001b[90m10\u001b[39m Aimee Bixby                    3               2            5     325 Needs …\n",
      "\u001b[90m# … with 785 more rows, and abbreviated variable names ¹​Revenue_score,\u001b[39m\n",
      "\u001b[90m#   ²​RFMScore\u001b[39m\n"
     ]
    }
   ],
   "source": [
    "RFM <- df_eu_storedata %>%\n",
    "  group_by(`Customer Name`) %>%\n",
    "  summarise(\n",
    "    total_revenue = sum(Sales),\n",
    "    total_transactions = n_distinct(`Order ID`),\n",
    "    days_last_transaction = round(as.numeric(difftime(Checkdate, max(`Order Date`), units = \"days\")))\n",
    "  ) %>%\n",
    "  ungroup() %>%\n",
    "  mutate(\n",
    "    Recency_segment = cut2(days_last_transaction, g = 5),\n",
    "    Frequency_segment = cut2(total_transactions, g = 5),\n",
    "    Revenue_segment = cut2(total_revenue, g = 5)\n",
    "  ) %>%\n",
    "  mutate(\n",
    "    Recency_score = as.integer(fct_rev(Recency_segment)),\n",
    "    Frequency_score = as.integer(Frequency_segment),\n",
    "    Revenue_score = as.integer(Revenue_segment)\n",
    "  ) %>%\n",
    "  mutate(\n",
    "    RFMScore = Recency_score * 100 + Frequency_score * 10 + Revenue_score\n",
    "  ) %>%\n",
    "  mutate(\n",
    "    Segment = case_when(\n",
    "      RFMScore %in% c(555, 554, 544, 545, 454, 455, 445) ~ \"Champions\",\n",
    "      RFMScore %in% c(543, 444, 435, 355, 354, 345, 344, 335) ~ \"Loyal Customers\",\n",
    "      RFMScore %in% c(\n",
    "        553, 551, 552, 541, 542, 533, 532, 531, 452, 451, 442, 441, 431, 453, 433,\n",
    "        432, 423, 353, 352, 351, 342, 341, 333, 323\n",
    "      ) ~ \"Potential Loyalists\",\n",
    "      RFMScore %in% c(512, 511, 422, 421, 412, 411, 311) ~ \"Recent Customers\",\n",
    "      RFMScore %in% c(\n",
    "        525, 524, 523, 522, 521, 515, 514, 513, 425, 424, 413, 414, 415, 315, 314, 313\n",
    "      ) ~ \"Promising\",\n",
    "      RFMScore %in% c(535, 534, 443, 434, 343, 334, 325, 324) ~ \"Needs Attention\",\n",
    "      RFMScore %in% c(331, 321, 312, 221, 213) ~ \"About to Sleep\",\n",
    "      RFMScore %in% c(\n",
    "        255, 254, 245, 244, 253, 252, 243, 242, 235, 234, 225, 224, 153, 152, 145,\n",
    "        143, 142, 135, 134, 133, 125, 124\n",
    "      ) ~ \"At Risk\",\n",
    "      RFMScore %in% c(155, 154, 144, 214, 215, 115, 114, 113) ~ \"Can’t lose\",\n",
    "      RFMScore %in% c(\n",
    "        332, 322, 231, 241, 251, 233, 232, 223, 222, 132, 123, 122, 212, 211\n",
    "      ) ~ \"Hibernating\",\n",
    "      RFMScore %in% c(111, 112, 121, 131, 141, 151) ~ \"Lost\"\n",
    "    )\n",
    "  ) %>%\n",
    "  select(`Customer Name`, Recency_score, Frequency_score, Revenue_score, RFMScore, Segment)\n",
    "\n",
    "print(RFM)\n"
   ]
  },
  {
   "cell_type": "markdown",
   "id": "bf90d2ea",
   "metadata": {},
   "source": [
    "# Finding median days between transactions"
   ]
  },
  {
   "cell_type": "code",
   "execution_count": 166,
   "id": "03ac039b",
   "metadata": {},
   "outputs": [
    {
     "name": "stderr",
     "output_type": "stream",
     "text": [
      "\u001b[1m\u001b[22m`summarise()` has grouped output by 'Customer Name'. You can override using the `.groups` argument.\n"
     ]
    },
    {
     "name": "stdout",
     "output_type": "stream",
     "text": [
      "\u001b[90m# A tibble: 795 × 2\u001b[39m\n",
      "   `Customer Name`    median_days_bw_transaction\n",
      "   \u001b[3m\u001b[90m<chr>\u001b[39m\u001b[23m                                   \u001b[3m\u001b[90m<dbl>\u001b[39m\u001b[23m\n",
      "\u001b[90m 1\u001b[39m Aaron Bergman                              66\n",
      "\u001b[90m 2\u001b[39m Aaron Hawkins                              42\n",
      "\u001b[90m 3\u001b[39m Aaron Smayling                             86\n",
      "\u001b[90m 4\u001b[39m Adam Bellavance                           122\n",
      "\u001b[90m 5\u001b[39m Adam Hart                                 166\n",
      "\u001b[90m 6\u001b[39m Adam Shillingsburg                        157\n",
      "\u001b[90m 7\u001b[39m Adrian Barton                             181\n",
      "\u001b[90m 8\u001b[39m Adrian Hane                                81\n",
      "\u001b[90m 9\u001b[39m Adrian Shami                              137\n",
      "\u001b[90m10\u001b[39m Aimee Bixby                               270\n",
      "\u001b[90m# … with 785 more rows\u001b[39m\n"
     ]
    }
   ],
   "source": [
    "Median_days_bw_transactions <- df_eu_storedata |>\n",
    "  arrange(desc(`Order Date`)) |>\n",
    "  group_by(`Customer Name`, `Order ID`) |>\n",
    "  summarise(date_unique_combination = as.Date(first(`Order Date`))) |>\n",
    "  arrange(desc(date_unique_combination)) |>\n",
    "  mutate(diff_bw_days = as.integer(lag(date_unique_combination) - date_unique_combination)) |>\n",
    "  arrange(desc(diff_bw_days)) |>\n",
    "  group_by(`Customer Name`) |>\n",
    "  summarise(median_days_bw_transaction = round(median(diff_bw_days, na.rm = TRUE)))\n",
    "  \n",
    "  print(Median_days_bw_transactions)"
   ]
  },
  {
   "cell_type": "markdown",
   "id": "17039675",
   "metadata": {},
   "source": [
    "# finding profitability group"
   ]
  },
  {
   "cell_type": "code",
   "execution_count": 167,
   "id": "786ff44f",
   "metadata": {},
   "outputs": [
    {
     "name": "stderr",
     "output_type": "stream",
     "text": [
      "\u001b[1m\u001b[22m`summarise()` has grouped output by 'Customer ID', 'Customer Name'. You can override using the `.groups` argument.\n",
      "\u001b[1m\u001b[22m`summarise()` has grouped output by 'Customer ID'. You can override using the `.groups` argument.\n"
     ]
    },
    {
     "name": "stdout",
     "output_type": "stream",
     "text": [
      "\u001b[90m# A tibble: 795 × 3\u001b[39m\n",
      "   `Customer ID` `Customer Name`      profitability_group\n",
      "   \u001b[3m\u001b[90m<chr>\u001b[39m\u001b[23m         \u001b[3m\u001b[90m<chr>\u001b[39m\u001b[23m                \u001b[3m\u001b[90m<fct>\u001b[39m\u001b[23m              \n",
      "\u001b[90m 1\u001b[39m AA-10315      Alex Avila           Moderate           \n",
      "\u001b[90m 2\u001b[39m AA-10375      Allen Armold         Very Low           \n",
      "\u001b[90m 3\u001b[39m AA-10480      Andrew Allen         High               \n",
      "\u001b[90m 4\u001b[39m AA-10645      Anna Andreadi        Low                \n",
      "\u001b[90m 5\u001b[39m AB-10015      Aaron Bergman        Moderate           \n",
      "\u001b[90m 6\u001b[39m AB-10060      Adam Bellavance      Very High          \n",
      "\u001b[90m 7\u001b[39m AB-10105      Adrian Barton        Low                \n",
      "\u001b[90m 8\u001b[39m AB-10150      Aimee Bixby          High               \n",
      "\u001b[90m 9\u001b[39m AB-10165      Alan Barnes          High               \n",
      "\u001b[90m10\u001b[39m AB-10255      Alejandro Ballentine Moderate           \n",
      "\u001b[90m# … with 785 more rows\u001b[39m\n"
     ]
    }
   ],
   "source": [
    "profitability_group <- df_eu_storedata |> \n",
    "  group_by(`Customer ID`,`Customer Name`,`Product ID`) |> \n",
    "  summarise(profitt = sum(Profit)/sum(Quantity)) |> \n",
    "  group_by(`Customer ID`,`Customer Name`) |> \n",
    "  summarise(profitability = mean(profitt, na.rm = TRUE)) |> \n",
    "  ungroup() |>\n",
    "  mutate(profitability_group = cut2(profitability, g=5) |> \n",
    "           factor(labels = c(\"Very Low\", \"Low\", \"Moderate\", \"High\", \"Very High\"))) |> \n",
    "  select(`Customer ID`,`Customer Name`,profitability_group) \n",
    "\n",
    "print(profitability_group)"
   ]
  },
  {
   "cell_type": "markdown",
   "id": "4fbaafd4",
   "metadata": {},
   "source": [
    "# finding shopper type"
   ]
  },
  {
   "cell_type": "code",
   "execution_count": 168,
   "id": "0823a4b4",
   "metadata": {},
   "outputs": [
    {
     "name": "stdout",
     "output_type": "stream",
     "text": [
      "\u001b[90m# A tibble: 795 × 2\u001b[39m\n",
      "   `Customer Name`    shopper_type       \n",
      "   \u001b[3m\u001b[90m<chr>\u001b[39m\u001b[23m              \u001b[3m\u001b[90m<chr>\u001b[39m\u001b[23m              \n",
      "\u001b[90m 1\u001b[39m Aaron Bergman      Regular_shopper    \n",
      "\u001b[90m 2\u001b[39m Aaron Hawkins      Regular_shopper    \n",
      "\u001b[90m 3\u001b[39m Aaron Smayling     Regular_shopper    \n",
      "\u001b[90m 4\u001b[39m Adam Bellavance    Regular_shopper    \n",
      "\u001b[90m 5\u001b[39m Adam Hart          Regular_shopper    \n",
      "\u001b[90m 6\u001b[39m Adam Shillingsburg Regular_shopper    \n",
      "\u001b[90m 7\u001b[39m Adrian Barton      promotional_shopper\n",
      "\u001b[90m 8\u001b[39m Adrian Hane        promotional_shopper\n",
      "\u001b[90m 9\u001b[39m Adrian Shami       promotional_shopper\n",
      "\u001b[90m10\u001b[39m Aimee Bixby        promotional_shopper\n",
      "\u001b[90m# … with 785 more rows\u001b[39m\n"
     ]
    }
   ],
   "source": [
    "shopper_type <- df_eu_storedata |>\n",
    "  group_by(`Customer Name`) |>\n",
    "  summarise(undisc_quantity = sum(ifelse(Discount == 0,Quantity,0)), \n",
    "            discount_quantity =sum(ifelse(Discount>0,Quantity,0)), \n",
    "            undisc_purchase = sum(ifelse(Discount == 0,Sales,0)), \n",
    "            discount_purchase =sum(ifelse(Discount>0,Sales,0))) |> \n",
    "  mutate(shopper_type = case_when(\n",
    "    discount_quantity > undisc_quantity & discount_purchase > undisc_purchase ~ \"promotional_shopper\",\n",
    "    discount_purchase >= 2*undisc_purchase ~ \"promotional_shopper\",\n",
    "    TRUE ~ \"Regular_shopper\")) |> \n",
    "  select(`Customer Name`,shopper_type)\n",
    "print(shopper_type)"
   ]
  },
  {
   "cell_type": "markdown",
   "id": "15469b07",
   "metadata": {},
   "source": [
    "# Finding most spent-on category and sub-category of each customer and finding sales percentage of that category"
   ]
  },
  {
   "cell_type": "code",
   "execution_count": 169,
   "id": "3cda430c",
   "metadata": {},
   "outputs": [
    {
     "name": "stderr",
     "output_type": "stream",
     "text": [
      "\u001b[1m\u001b[22m`summarise()` has grouped output by 'Customer Name', 'Category'. You can override using the `.groups` argument.\n",
      "\u001b[1m\u001b[22mJoining with `by = join_by(`Customer Name`)`\n"
     ]
    },
    {
     "name": "stdout",
     "output_type": "stream",
     "text": [
      "\u001b[90m# A tibble: 795 × 3\u001b[39m\n",
      "\u001b[90m# Groups:   Customer Name [795]\u001b[39m\n",
      "   `Customer Name`    sales_sub_category sales_category     \n",
      "   \u001b[3m\u001b[90m<chr>\u001b[39m\u001b[23m              \u001b[3m\u001b[90m<chr>\u001b[39m\u001b[23m              \u001b[3m\u001b[90m<chr>\u001b[39m\u001b[23m              \n",
      "\u001b[90m 1\u001b[39m Aaron Bergman      Copiers            80% Technology     \n",
      "\u001b[90m 2\u001b[39m Aaron Hawkins      Copiers            60% Technology     \n",
      "\u001b[90m 3\u001b[39m Aaron Smayling     Accessories        56% Technology     \n",
      "\u001b[90m 4\u001b[39m Adam Bellavance    Bookcases          47% Furniture      \n",
      "\u001b[90m 5\u001b[39m Adam Hart          Chairs             44% Furniture      \n",
      "\u001b[90m 6\u001b[39m Adam Shillingsburg Appliances         57% Office Supplies\n",
      "\u001b[90m 7\u001b[39m Adrian Barton      Storage            76% Office Supplies\n",
      "\u001b[90m 8\u001b[39m Adrian Hane        Storage            50% Office Supplies\n",
      "\u001b[90m 9\u001b[39m Adrian Shami       Bookcases          84% Furniture      \n",
      "\u001b[90m10\u001b[39m Aimee Bixby        Machines           85% Technology     \n",
      "\u001b[90m# … with 785 more rows\u001b[39m\n"
     ]
    }
   ],
   "source": [
    "Mostspent_Category_SubCategory <- df_eu_storedata |> \n",
    "  group_by(`Customer Name`,Category,`Sub-Category`) |>\n",
    "  summarise(max_sales = sum(Sales)) |> \n",
    "  group_by(`Customer Name`) |> \n",
    "  slice_max(max_sales, n = 1, with_ties = FALSE) |> \n",
    "  rename(sales_category = Category, sales_sub_category = `Sub-Category`) |> \n",
    "  left_join(\n",
    "    df_eu_storedata  |> \n",
    "      group_by(`Customer Name`, Category) |> \n",
    "      mutate(category_sales = sum(Sales)) |> \n",
    "      group_by(`Customer Name`)  |> \n",
    "      summarise(Customer_sale = sum(Sales),\n",
    "                percent_spending_on_sales_category = round((max(category_sales)/Customer_sale)*100)) |> \n",
    "      mutate(percent_spending_on_sales_category = paste0(percent_spending_on_sales_category, \"%\"))) |> \n",
    "  mutate(sales_category = paste0(percent_spending_on_sales_category, \" \", sales_category)) |> \n",
    "  select(`Customer Name`,`sales_sub_category`,`sales_category`)\n",
    "\n",
    "print(Mostspent_Category_SubCategory)"
   ]
  },
  {
   "cell_type": "markdown",
   "id": "cd8525df",
   "metadata": {},
   "source": [
    "# Finding favorite category and Sub-Category of each customer on the basis of orders"
   ]
  },
  {
   "cell_type": "code",
   "execution_count": 170,
   "id": "68080c69",
   "metadata": {},
   "outputs": [
    {
     "name": "stderr",
     "output_type": "stream",
     "text": [
      "\u001b[1m\u001b[22m`summarise()` has grouped output by 'Customer Name', 'Category'. You can override using the `.groups` argument.\n"
     ]
    },
    {
     "name": "stdout",
     "output_type": "stream",
     "text": [
      "\u001b[90m# A tibble: 795 × 3\u001b[39m\n",
      "\u001b[90m# Groups:   Customer Name [795]\u001b[39m\n",
      "   `Customer Name`    most_frequently_purchased_category most_frequently_purch…¹\n",
      "   \u001b[3m\u001b[90m<chr>\u001b[39m\u001b[23m              \u001b[3m\u001b[90m<chr>\u001b[39m\u001b[23m                              \u001b[3m\u001b[90m<chr>\u001b[39m\u001b[23m                  \n",
      "\u001b[90m 1\u001b[39m Aaron Bergman      Office Supplies                    Labels                 \n",
      "\u001b[90m 2\u001b[39m Aaron Hawkins      Office Supplies                    Art                    \n",
      "\u001b[90m 3\u001b[39m Aaron Smayling     Office Supplies                    Art                    \n",
      "\u001b[90m 4\u001b[39m Adam Bellavance    Office Supplies                    Binders                \n",
      "\u001b[90m 5\u001b[39m Adam Hart          Office Supplies                    Binders                \n",
      "\u001b[90m 6\u001b[39m Adam Shillingsburg Office Supplies                    Art                    \n",
      "\u001b[90m 7\u001b[39m Adrian Barton      Office Supplies                    Storage                \n",
      "\u001b[90m 8\u001b[39m Adrian Hane        Office Supplies                    Storage                \n",
      "\u001b[90m 9\u001b[39m Adrian Shami       Furniture                          Bookcases              \n",
      "\u001b[90m10\u001b[39m Aimee Bixby        Technology                         Machines               \n",
      "\u001b[90m# … with 785 more rows, and abbreviated variable name\u001b[39m\n",
      "\u001b[90m#   ¹​most_frequently_purchased_sub_category\u001b[39m\n"
     ]
    }
   ],
   "source": [
    "Fav_category_SubCategory <-\n",
    "df_eu_storedata |> \n",
    "  group_by(`Customer Name`,Category,`Sub-Category`) |>\n",
    "  summarise(most_frequently_purchased = n_distinct(`Order ID`),\n",
    "            most_sales_quantity = sum(Quantity),\n",
    "            most_sales = sum(Sales)) |> \n",
    "  group_by(`Customer Name`) |> \n",
    "  slice_max(most_frequently_purchased, n = 1, with_ties = TRUE) |> \n",
    "  slice_max(most_sales_quantity, n = 1, with_ties = TRUE) |> \n",
    "  slice_max(most_sales, n = 1, with_ties = TRUE) |> \n",
    "  select(`Customer Name`, Category,`Sub-Category`) |> \n",
    "  rename(most_frequently_purchased_category = Category, most_frequently_purchased_sub_category = `Sub-Category`)\n",
    "print(Fav_category_SubCategory)"
   ]
  },
  {
   "cell_type": "markdown",
   "id": "ea994b82",
   "metadata": {},
   "source": [
    "# finding out favorite ship mode of each customer on basis of two factors. 1st(frequently order placed) 2nd(most quantity bought)\n"
   ]
  },
  {
   "cell_type": "code",
   "execution_count": 171,
   "id": "44dba9f4",
   "metadata": {},
   "outputs": [
    {
     "name": "stderr",
     "output_type": "stream",
     "text": [
      "\u001b[1m\u001b[22m`summarise()` has grouped output by 'Customer Name'. You can override using the `.groups` argument.\n"
     ]
    },
    {
     "name": "stdout",
     "output_type": "stream",
     "text": [
      "\u001b[90m# A tibble: 795 × 2\u001b[39m\n",
      "\u001b[90m# Groups:   Customer Name [795]\u001b[39m\n",
      "   `Customer Name`    `Ship Mode`   \n",
      "   \u001b[3m\u001b[90m<chr>\u001b[39m\u001b[23m              \u001b[3m\u001b[90m<chr>\u001b[39m\u001b[23m         \n",
      "\u001b[90m 1\u001b[39m Aaron Bergman      Standard Class\n",
      "\u001b[90m 2\u001b[39m Aaron Hawkins      Standard Class\n",
      "\u001b[90m 3\u001b[39m Aaron Smayling     Standard Class\n",
      "\u001b[90m 4\u001b[39m Adam Bellavance    Second Class  \n",
      "\u001b[90m 5\u001b[39m Adam Hart          Standard Class\n",
      "\u001b[90m 6\u001b[39m Adam Shillingsburg Standard Class\n",
      "\u001b[90m 7\u001b[39m Adrian Barton      Standard Class\n",
      "\u001b[90m 8\u001b[39m Adrian Hane        Standard Class\n",
      "\u001b[90m 9\u001b[39m Adrian Shami       Second Class  \n",
      "\u001b[90m10\u001b[39m Aimee Bixby        Standard Class\n",
      "\u001b[90m# … with 785 more rows\u001b[39m\n"
     ]
    }
   ],
   "source": [
    "ship_mode <- df_eu_storedata |> \n",
    "  group_by(`Customer Name`,`Ship Mode`) |> \n",
    "  summarise(n_Order_Id = n_distinct(`Order ID`),\n",
    "            max_qty = sum(Quantity)) |> \n",
    "  group_by(`Customer Name`) |> \n",
    "  slice_max(n_Order_Id, n = 1, with_ties = TRUE) |> \n",
    "  slice_max(max_qty, n = 1, with_ties = FALSE) |>\n",
    "  select(`Customer Name`,`Ship Mode`)\n",
    "print(ship_mode)"
   ]
  },
  {
   "cell_type": "markdown",
   "id": "b54aebef",
   "metadata": {},
   "source": [
    "# Analyzing base region of a customer with conditions, 1st(frequent order), 2nd(Most Quantity)\n"
   ]
  },
  {
   "cell_type": "code",
   "execution_count": 172,
   "id": "bd8da0f9",
   "metadata": {},
   "outputs": [
    {
     "name": "stderr",
     "output_type": "stream",
     "text": [
      "\u001b[1m\u001b[22m`summarise()` has grouped output by 'Customer Name'. You can override using the `.groups` argument.\n"
     ]
    },
    {
     "name": "stdout",
     "output_type": "stream",
     "text": [
      "\u001b[90m# A tibble: 795 × 2\u001b[39m\n",
      "\u001b[90m# Groups:   Customer Name [795]\u001b[39m\n",
      "   `Customer Name`    Region \n",
      "   \u001b[3m\u001b[90m<chr>\u001b[39m\u001b[23m              \u001b[3m\u001b[90m<chr>\u001b[39m\u001b[23m  \n",
      "\u001b[90m 1\u001b[39m Aaron Bergman      Central\n",
      "\u001b[90m 2\u001b[39m Aaron Hawkins      Central\n",
      "\u001b[90m 3\u001b[39m Aaron Smayling     Central\n",
      "\u001b[90m 4\u001b[39m Adam Bellavance    North  \n",
      "\u001b[90m 5\u001b[39m Adam Hart          Central\n",
      "\u001b[90m 6\u001b[39m Adam Shillingsburg Central\n",
      "\u001b[90m 7\u001b[39m Adrian Barton      South  \n",
      "\u001b[90m 8\u001b[39m Adrian Hane        North  \n",
      "\u001b[90m 9\u001b[39m Adrian Shami       Central\n",
      "\u001b[90m10\u001b[39m Aimee Bixby        North  \n",
      "\u001b[90m# … with 785 more rows\u001b[39m\n"
     ]
    }
   ],
   "source": [
    "Region <-\n",
    "df_eu_storedata |> \n",
    "  group_by(`Customer Name`,`Region`) |> \n",
    "  summarise(n_order_Id = n_distinct(`Order ID`),\n",
    "            max_qty = sum(Quantity)) |> \n",
    "  group_by(`Customer Name`) |> \n",
    "  slice_max(n_order_Id, n = 1, with_ties = TRUE) |> \n",
    "  slice_max(max_qty, n = 1, with_ties = FALSE) |> \n",
    "  select(`Customer Name`,`Region`)\n",
    "print(Region)"
   ]
  },
  {
   "cell_type": "markdown",
   "id": "d9740d44",
   "metadata": {},
   "source": [
    "# Analyzing base country of a customer with conditions, 1st(frequent order), 2nd(Most Qty), 3rd(minimum variability in state), 4th(minimum variability in city), 5th(maximum sales)\n",
    " "
   ]
  },
  {
   "cell_type": "code",
   "execution_count": 173,
   "id": "3473b4e9",
   "metadata": {},
   "outputs": [
    {
     "name": "stderr",
     "output_type": "stream",
     "text": [
      "\u001b[1m\u001b[22m`summarise()` has grouped output by 'Customer Name'. You can override using the `.groups` argument.\n"
     ]
    },
    {
     "name": "stdout",
     "output_type": "stream",
     "text": [
      "\u001b[90m# A tibble: 795 × 2\u001b[39m\n",
      "\u001b[90m# Groups:   Customer Name [795]\u001b[39m\n",
      "   `Customer Name`    Country       \n",
      "   \u001b[3m\u001b[90m<chr>\u001b[39m\u001b[23m              \u001b[3m\u001b[90m<chr>\u001b[39m\u001b[23m         \n",
      "\u001b[90m 1\u001b[39m Aaron Bergman      Italy         \n",
      "\u001b[90m 2\u001b[39m Aaron Hawkins      United Kingdom\n",
      "\u001b[90m 3\u001b[39m Aaron Smayling     France        \n",
      "\u001b[90m 4\u001b[39m Adam Bellavance    United Kingdom\n",
      "\u001b[90m 5\u001b[39m Adam Hart          France        \n",
      "\u001b[90m 6\u001b[39m Adam Shillingsburg France        \n",
      "\u001b[90m 7\u001b[39m Adrian Barton      Italy         \n",
      "\u001b[90m 8\u001b[39m Adrian Hane        United Kingdom\n",
      "\u001b[90m 9\u001b[39m Adrian Shami       Netherlands   \n",
      "\u001b[90m10\u001b[39m Aimee Bixby        United Kingdom\n",
      "\u001b[90m# … with 785 more rows\u001b[39m\n"
     ]
    }
   ],
   "source": [
    "Country <- \n",
    "  df_eu_storedata |> \n",
    "  group_by(`Customer Name`,Country) |> \n",
    "  summarise(n_order_Id = n_distinct(`Order ID`),\n",
    "            max_qty = sum(Quantity),\n",
    "            n_state = n_distinct(State),\n",
    "            n_city = n_distinct(City),\n",
    "            sale = sum(Sales)) |> \n",
    "  group_by(`Customer Name`) |> \n",
    "  slice_max(n_order_Id, n = 1, with_ties = TRUE) |> \n",
    "  slice_max(max_qty, n = 1, with_ties = TRUE) |> \n",
    "  slice_min(n_state, n = 1, with_ties = TRUE) |> \n",
    "  slice_min(n_city, n = 1, with_ties = TRUE) |> \n",
    "  slice_max(sale, n = 1, with_ties = TRUE) |>\n",
    "  select(`Customer Name`,`Country`)\n",
    "print(Country)"
   ]
  },
  {
   "cell_type": "markdown",
   "id": "f7d5a10a",
   "metadata": {},
   "source": [
    "# Analyzing base state of a customer with conditions, 1st(frequent order), 2nd(Most Qty), 3rd(minimum variability in city), 4th(maximum sales)\n",
    " "
   ]
  },
  {
   "cell_type": "code",
   "execution_count": 174,
   "id": "7485933c",
   "metadata": {},
   "outputs": [
    {
     "name": "stderr",
     "output_type": "stream",
     "text": [
      "\u001b[1m\u001b[22m`summarise()` has grouped output by 'Customer Name'. You can override using the `.groups` argument.\n"
     ]
    },
    {
     "name": "stdout",
     "output_type": "stream",
     "text": [
      "\u001b[90m# A tibble: 795 × 2\u001b[39m\n",
      "\u001b[90m# Groups:   Customer Name [795]\u001b[39m\n",
      "   `Customer Name`    State          \n",
      "   \u001b[3m\u001b[90m<chr>\u001b[39m\u001b[23m              \u001b[3m\u001b[90m<chr>\u001b[39m\u001b[23m          \n",
      "\u001b[90m 1\u001b[39m Aaron Bergman      England        \n",
      "\u001b[90m 2\u001b[39m Aaron Hawkins      England        \n",
      "\u001b[90m 3\u001b[39m Aaron Smayling     England        \n",
      "\u001b[90m 4\u001b[39m Adam Bellavance    Oslo           \n",
      "\u001b[90m 5\u001b[39m Adam Hart          England        \n",
      "\u001b[90m 6\u001b[39m Adam Shillingsburg Ile-de-France  \n",
      "\u001b[90m 7\u001b[39m Adrian Barton      Hauts-de-France\n",
      "\u001b[90m 8\u001b[39m Adrian Hane        England        \n",
      "\u001b[90m 9\u001b[39m Adrian Shami       Overijssel     \n",
      "\u001b[90m10\u001b[39m Aimee Bixby        England        \n",
      "\u001b[90m# … with 785 more rows\u001b[39m\n"
     ]
    }
   ],
   "source": [
    "State <- \n",
    "  df_eu_storedata |> \n",
    "  group_by(`Customer Name`,State) |> \n",
    "  summarise(n_order_Id = n_distinct(`Order ID`),\n",
    "            max_qty = sum(Quantity),\n",
    "            n_city = n_distinct(City),\n",
    "            sale = sum(Sales)) |> \n",
    "  group_by(`Customer Name`) |> \n",
    "  slice_max(n_order_Id, n = 1, with_ties = TRUE) |> \n",
    "  slice_max(max_qty, n = 1, with_ties = TRUE) |> \n",
    "  slice_min(n_city, n = 1, with_ties = TRUE) |> \n",
    "  slice_max(sale, n = 1, with_ties = TRUE) |>\n",
    "  select(`Customer Name`,`State`)\n",
    "print(State)"
   ]
  },
  {
   "cell_type": "markdown",
   "id": "d0a2222e",
   "metadata": {},
   "source": [
    "# Analyzing base city of a customer with conditions, 1st(frequent order), 2nd(Most Qty), 3rd(maximum sales)"
   ]
  },
  {
   "cell_type": "code",
   "execution_count": 175,
   "id": "cfb357b8",
   "metadata": {},
   "outputs": [
    {
     "name": "stderr",
     "output_type": "stream",
     "text": [
      "\u001b[1m\u001b[22m`summarise()` has grouped output by 'Customer Name'. You can override using the `.groups` argument.\n"
     ]
    },
    {
     "name": "stdout",
     "output_type": "stream",
     "text": [
      "\u001b[90m# A tibble: 795 × 2\u001b[39m\n",
      "\u001b[90m# Groups:   Customer Name [795]\u001b[39m\n",
      "   `Customer Name`    City          \n",
      "   \u001b[3m\u001b[90m<chr>\u001b[39m\u001b[23m              \u001b[3m\u001b[90m<chr>\u001b[39m\u001b[23m         \n",
      "\u001b[90m 1\u001b[39m Aaron Bergman      Viersen       \n",
      "\u001b[90m 2\u001b[39m Aaron Hawkins      Maisons-Alfort\n",
      "\u001b[90m 3\u001b[39m Aaron Smayling     Le Cannet     \n",
      "\u001b[90m 4\u001b[39m Adam Bellavance    Oslo          \n",
      "\u001b[90m 5\u001b[39m Adam Hart          Roeselare     \n",
      "\u001b[90m 6\u001b[39m Adam Shillingsburg Huddersfield  \n",
      "\u001b[90m 7\u001b[39m Adrian Barton      Avion         \n",
      "\u001b[90m 8\u001b[39m Adrian Hane        London        \n",
      "\u001b[90m 9\u001b[39m Adrian Shami       Deventer      \n",
      "\u001b[90m10\u001b[39m Aimee Bixby        London        \n",
      "\u001b[90m# … with 785 more rows\u001b[39m\n"
     ]
    }
   ],
   "source": [
    "City <- \n",
    "  df_eu_storedata |> \n",
    "  group_by(`Customer Name`,City) |> \n",
    "  summarise(n_order_Id = n_distinct(`Order ID`),\n",
    "            max_qty = sum(Quantity),\n",
    "            sale = sum(Sales)) |> \n",
    "  group_by(`Customer Name`) |> \n",
    "  slice_max(n_order_Id, n = 1, with_ties = TRUE) |> \n",
    "  slice_max(max_qty, n = 1, with_ties = TRUE) |> \n",
    "  slice_max(sale, n = 1, with_ties = TRUE) |>\n",
    "  select(`Customer Name`,`City`)\n",
    "print(City)"
   ]
  },
  {
   "cell_type": "markdown",
   "id": "8ea9cd77",
   "metadata": {},
   "source": [
    "# Finding Average shipping time for the customer\n"
   ]
  },
  {
   "cell_type": "code",
   "execution_count": 176,
   "id": "ffc566fd",
   "metadata": {},
   "outputs": [
    {
     "name": "stderr",
     "output_type": "stream",
     "text": [
      "Warning message:\n",
      "\"\u001b[1m\u001b[22mReturning more (or less) than 1 row per `summarise()` group was deprecated in dplyr 1.1.0.\n",
      "\u001b[36mℹ\u001b[39m Please use `reframe()` instead.\n",
      "\u001b[36mℹ\u001b[39m When switching from `summarise()` to `reframe()`, remember that `reframe()` always returns an ungrouped data frame\n",
      "  and adjust accordingly.\"\n",
      "\u001b[1m\u001b[22m`summarise()` has grouped output by 'Customer Name', 'Order ID'. You can override using the `.groups` argument.\n"
     ]
    },
    {
     "name": "stdout",
     "output_type": "stream",
     "text": [
      "\u001b[90m# A tibble: 795 × 2\u001b[39m\n",
      "   `Customer Name`    avg_shipping_hours\n",
      "   \u001b[3m\u001b[90m<chr>\u001b[39m\u001b[23m                           \u001b[3m\u001b[90m<dbl>\u001b[39m\u001b[23m\n",
      "\u001b[90m 1\u001b[39m Aaron Bergman                      74\n",
      "\u001b[90m 2\u001b[39m Aaron Hawkins                     101\n",
      "\u001b[90m 3\u001b[39m Aaron Smayling                    108\n",
      "\u001b[90m 4\u001b[39m Adam Bellavance                    89\n",
      "\u001b[90m 5\u001b[39m Adam Hart                         108\n",
      "\u001b[90m 6\u001b[39m Adam Shillingsburg                 94\n",
      "\u001b[90m 7\u001b[39m Adrian Barton                      94\n",
      "\u001b[90m 8\u001b[39m Adrian Hane                        79\n",
      "\u001b[90m 9\u001b[39m Adrian Shami                       96\n",
      "\u001b[90m10\u001b[39m Aimee Bixby                        81\n",
      "\u001b[90m# … with 785 more rows\u001b[39m\n"
     ]
    }
   ],
   "source": [
    "Avg_time <- df_eu_storedata |> \n",
    "  group_by(`Customer Name`,`Order ID`) |> \n",
    "  summarise(S = difftime(`Ship Date`,`Order Date`)) |> \n",
    "  group_by(`Customer Name`) |> \n",
    "  summarise(avg_shipping_hours = round(mean(as.numeric(S)/3600)))\n",
    "print(Avg_time)"
   ]
  },
  {
   "cell_type": "markdown",
   "id": "ba66370a",
   "metadata": {},
   "source": [
    "# Percentage of orders with multiple products\n"
   ]
  },
  {
   "cell_type": "code",
   "execution_count": 177,
   "id": "57744e04",
   "metadata": {},
   "outputs": [
    {
     "name": "stderr",
     "output_type": "stream",
     "text": [
      "\u001b[1m\u001b[22m`summarise()` has grouped output by 'Customer ID', 'Customer Name'. You can override using the `.groups` argument.\n"
     ]
    },
    {
     "name": "stdout",
     "output_type": "stream",
     "text": [
      "\u001b[90m# A tibble: 795 × 2\u001b[39m\n",
      "   `Customer Name`    multiple_products_per_order_percentage\n",
      "   \u001b[3m\u001b[90m<chr>\u001b[39m\u001b[23m                                               \u001b[3m\u001b[90m<dbl>\u001b[39m\u001b[23m\n",
      "\u001b[90m 1\u001b[39m Aaron Bergman                                        75  \n",
      "\u001b[90m 2\u001b[39m Aaron Hawkins                                        25  \n",
      "\u001b[90m 3\u001b[39m Aaron Smayling                                       30.8\n",
      "\u001b[90m 4\u001b[39m Adam Bellavance                                      20  \n",
      "\u001b[90m 5\u001b[39m Adam Hart                                            66.7\n",
      "\u001b[90m 6\u001b[39m Adam Shillingsburg                                   50  \n",
      "\u001b[90m 7\u001b[39m Adrian Barton                                        83.3\n",
      "\u001b[90m 8\u001b[39m Adrian Hane                                          83.3\n",
      "\u001b[90m 9\u001b[39m Adrian Shami                                         66.7\n",
      "\u001b[90m10\u001b[39m Aimee Bixby                                          66.7\n",
      "\u001b[90m# … with 785 more rows\u001b[39m\n"
     ]
    }
   ],
   "source": [
    "products_per_order <- df_eu_storedata |> \n",
    "  group_by(`Customer ID`,`Customer Name`,`Order ID`) |> \n",
    "  summarise(num_products = case_when(n_distinct(`Product ID`) > 1 ~ \"Multiple\", TRUE ~ \"Single\")) |> \n",
    "  group_by(`Customer Name`) |> \n",
    "  summarise(multiple_products_per_order_percentage = (sum(case_when(num_products == \"Multiple\" ~ 1, TRUE ~ 0))/n_distinct(`Order ID`))*100)\n",
    "print(products_per_order)"
   ]
  },
  {
   "cell_type": "markdown",
   "id": "c16276b0",
   "metadata": {},
   "source": [
    "# Calculating the year-over-year(last year) growth in sales for each customer\n"
   ]
  },
  {
   "cell_type": "code",
   "execution_count": 178,
   "id": "11d84b9b",
   "metadata": {},
   "outputs": [
    {
     "name": "stderr",
     "output_type": "stream",
     "text": [
      "\u001b[1m\u001b[22m`summarise()` has grouped output by 'Customer ID', 'Customer Name'. You can override using the `.groups` argument.\n"
     ]
    },
    {
     "name": "stdout",
     "output_type": "stream",
     "text": [
      "\u001b[90m# A tibble: 795 × 4\u001b[39m\n",
      "\u001b[90m# Groups:   Customer ID [795]\u001b[39m\n",
      "   `Customer ID` `Customer Name`       year growth_rate\n",
      "   \u001b[3m\u001b[90m<chr>\u001b[39m\u001b[23m         \u001b[3m\u001b[90m<chr>\u001b[39m\u001b[23m                \u001b[3m\u001b[90m<dbl>\u001b[39m\u001b[23m       \u001b[3m\u001b[90m<dbl>\u001b[39m\u001b[23m\n",
      "\u001b[90m 1\u001b[39m AA-10315      Alex Avila            \u001b[4m2\u001b[24m018       610. \n",
      "\u001b[90m 2\u001b[39m AA-10375      Allen Armold          \u001b[4m2\u001b[24m018       -\u001b[31m70\u001b[39m\u001b[31m.\u001b[39m\u001b[31m8\u001b[39m\n",
      "\u001b[90m 3\u001b[39m AA-10480      Andrew Allen          \u001b[4m2\u001b[24m018        22.1\n",
      "\u001b[90m 4\u001b[39m AA-10645      Anna Andreadi         \u001b[4m2\u001b[24m018       344. \n",
      "\u001b[90m 5\u001b[39m AB-10015      Aaron Bergman         \u001b[4m2\u001b[24m018       274. \n",
      "\u001b[90m 6\u001b[39m AB-10060      Adam Bellavance       \u001b[4m2\u001b[24m018       -\u001b[31m20\u001b[39m\u001b[31m.\u001b[39m\u001b[31m2\u001b[39m\n",
      "\u001b[90m 7\u001b[39m AB-10105      Adrian Barton         \u001b[4m2\u001b[24m018       826. \n",
      "\u001b[90m 8\u001b[39m AB-10150      Aimee Bixby           \u001b[4m2\u001b[24m018       111. \n",
      "\u001b[90m 9\u001b[39m AB-10165      Alan Barnes           \u001b[4m2\u001b[24m018       -\u001b[31m35\u001b[39m\u001b[31m.\u001b[39m\u001b[31m3\u001b[39m\n",
      "\u001b[90m10\u001b[39m AB-10255      Alejandro Ballentine  \u001b[4m2\u001b[24m018       -\u001b[31m45\u001b[39m\u001b[31m.\u001b[39m\u001b[31m1\u001b[39m\n",
      "\u001b[90m# … with 785 more rows\u001b[39m\n"
     ]
    }
   ],
   "source": [
    "sales_growth <- df_eu_storedata |> \n",
    "  group_by(`Customer ID`,`Customer Name`,year = lubridate::year(`Order Date`)) |> \n",
    "  summarise(total_sales = sum(`Sales`)) |> \n",
    "  group_by(`Customer ID`) |> \n",
    "  mutate(growth_rate = (total_sales / lag(total_sales) - 1) * 100) |> \n",
    "  filter(year == last(year)) |> \n",
    "  select(`Customer ID`,`Customer Name`,year,growth_rate)\n",
    "print(sales_growth)"
   ]
  },
  {
   "cell_type": "markdown",
   "id": "c8c90019",
   "metadata": {},
   "source": [
    "# Combining all metrics by left join"
   ]
  },
  {
   "cell_type": "code",
   "execution_count": 179,
   "id": "7989a0ae",
   "metadata": {},
   "outputs": [
    {
     "name": "stdout",
     "output_type": "stream",
     "text": [
      "\u001b[90m# A tibble: 795 × 37\u001b[39m\n",
      "   Customer Na…¹ media…² Recen…³ Frequ…⁴ Reven…⁵ RFMSc…⁶ Segment most_…⁷ most_…⁸\n",
      "   \u001b[3m\u001b[90m<chr>\u001b[39m\u001b[23m           \u001b[3m\u001b[90m<dbl>\u001b[39m\u001b[23m   \u001b[3m\u001b[90m<int>\u001b[39m\u001b[23m   \u001b[3m\u001b[90m<int>\u001b[39m\u001b[23m   \u001b[3m\u001b[90m<int>\u001b[39m\u001b[23m   \u001b[3m\u001b[90m<dbl>\u001b[39m\u001b[23m \u001b[3m\u001b[90m<chr>\u001b[39m\u001b[23m   \u001b[3m\u001b[90m<chr>\u001b[39m\u001b[23m   \u001b[3m\u001b[90m<chr>\u001b[39m\u001b[23m  \n",
      "\u001b[90m 1\u001b[39m Aaron Bergman      66       1       5       5     155 Can’t … Office… Labels \n",
      "\u001b[90m 2\u001b[39m Aaron Hawkins      42       4       4       4     444 Loyal … Office… Art    \n",
      "\u001b[90m 3\u001b[39m Aaron Smayli…      86       5       5       5     555 Champi… Office… Art    \n",
      "\u001b[90m 4\u001b[39m Adam Bellava…     122       2       2       3     223 Hibern… Office… Binders\n",
      "\u001b[90m 5\u001b[39m Adam Hart         166       4       5       4     454 Champi… Office… Binders\n",
      "\u001b[90m 6\u001b[39m Adam Shillin…     157       5       4       4     544 Champi… Office… Art    \n",
      "\u001b[90m 7\u001b[39m Adrian Barton     181       4       2       3     423 Potent… Office… Storage\n",
      "\u001b[90m 8\u001b[39m Adrian Hane        81       3       2       3     323 Potent… Office… Storage\n",
      "\u001b[90m 9\u001b[39m Adrian Shami      137       1       1       2     112 Lost    Furnit… Bookca…\n",
      "\u001b[90m10\u001b[39m Aimee Bixby       270       3       2       5     325 Needs … Techno… Machin…\n",
      "\u001b[90m# … with 785 more rows, 28 more variables: sales_sub_category <chr>,\u001b[39m\n",
      "\u001b[90m#   sales_category <chr>, `Customer ID.x` <chr>, profitability_group <fct>,\u001b[39m\n",
      "\u001b[90m#   shopper_type <chr>, `Customer ID.y` <chr>, year <dbl>, growth_rate <dbl>,\u001b[39m\n",
      "\u001b[90m#   multiple_products_per_order_percentage <dbl>, Region <chr>, Country <chr>,\u001b[39m\n",
      "\u001b[90m#   State <chr>, City <chr>, `Ship Mode` <chr>, avg_shipping_hours <dbl>,\u001b[39m\n",
      "\u001b[90m#   Customer_ID <chr>, segment <chr>, total_profit <dbl>,\u001b[39m\n",
      "\u001b[90m#   average_order_value <dbl>, average_order_profit <dbl>, …\u001b[39m\n"
     ]
    }
   ],
   "source": [
    "EUstore <- left_join(Median_days_bw_transactions, RFM, by = \"Customer Name\") %>%\n",
    "  left_join(Fav_category_SubCategory, by = \"Customer Name\") |> \n",
    "  left_join(Mostspent_Category_SubCategory, by = \"Customer Name\") |> \n",
    "  left_join(profitability_group, by = \"Customer Name\") |> \n",
    "  left_join(shopper_type, by = \"Customer Name\") |> \n",
    "  left_join(sales_growth, by = \"Customer Name\") |> \n",
    "  left_join(products_per_order, by = \"Customer Name\") |> \n",
    "  left_join(Region, by = \"Customer Name\") |> \n",
    "  left_join(Country, by = \"Customer Name\") |> \n",
    "  left_join(State, by = \"Customer Name\") |> \n",
    "  left_join(City, by = \"Customer Name\") |> \n",
    "  left_join(ship_mode, by = \"Customer Name\") |> \n",
    "  left_join(Avg_time, by = \"Customer Name\") |> \n",
    "  left_join(Basic_metrics, by = \"Customer Name\")\n",
    "print(EUstore)"
   ]
  }
 ],
 "metadata": {
  "kernelspec": {
   "display_name": "R",
   "language": "R",
   "name": "ir"
  },
  "language_info": {
   "codemirror_mode": "r",
   "file_extension": ".r",
   "mimetype": "text/x-r-source",
   "name": "R",
   "pygments_lexer": "r",
   "version": "4.2.2"
  }
 },
 "nbformat": 4,
 "nbformat_minor": 5
}
